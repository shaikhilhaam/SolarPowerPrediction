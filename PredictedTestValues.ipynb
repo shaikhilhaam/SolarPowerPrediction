{
 "cells": [
  {
   "cell_type": "code",
   "execution_count": 1,
   "metadata": {},
   "outputs": [],
   "source": [
    "import pandas as pd\n",
    "import numpy as np\n",
    "import matplotlib.pyplot as plt\n",
    "import seaborn as sns\n",
    "import plotly.express as px\n",
    "from sklearn.ensemble import RandomForestRegressor \n",
    "import pickle"
   ]
  },
  {
   "cell_type": "code",
   "execution_count": 5,
   "metadata": {},
   "outputs": [],
   "source": [
    "df=pd.read_csv('weather_forecast.csv')"
   ]
  },
  {
   "cell_type": "code",
   "execution_count": 6,
   "metadata": {},
   "outputs": [],
   "source": [
    "df.drop(columns=['Unnamed: 0', 'plant_id','datetime_utc'],inplace=True)\n",
    "df[df==-9999]=np.nan\n",
    "df.drop(columns=['wind_chill', 'heat_index','qpf','snow','pop','fctcode','precip_accumulation'],inplace=True)\n",
    "df.cloud_cover=df.cloud_cover.interpolate()\n",
    "df.wind_bearing=df.wind_bearing.interpolate()\n",
    "df.wind_speed=df.wind_speed.interpolate()\n",
    "df.wind_gust=df.wind_gust.interpolate()\n",
    "df.pressure=df.pressure.interpolate()\n",
    "df.uv_index=df.uv_index.interpolate()\n",
    "df.ozone=df.ozone.interpolate()\n",
    "df.precip_intensity=df.precip_intensity.interpolate()\n",
    "df.precip_probability=df.precip_probability.interpolate()\n",
    "df.precip_type=df.precip_type.interpolate()\n",
    "df.visibility=df.visibility.interpolate()\n",
    "df.drop(columns=['precip_type'],inplace=True)\n",
    "df.drop(columns=['datetime_local','sunrise','sunset','updated_at'],inplace=True)\n",
    "df=df.fillna(df.mean())\n",
    "df.drop(columns=['icon'],inplace=True)"
   ]
  },
  {
   "cell_type": "code",
   "execution_count": 8,
   "metadata": {},
   "outputs": [],
   "source": [
    "one_hot = pd.get_dummies(df['summary'])\n",
    "df = df.drop('summary',axis = 1)\n",
    "df = df.join(one_hot)"
   ]
  },
  {
   "cell_type": "code",
   "execution_count": 9,
   "metadata": {},
   "outputs": [],
   "source": [
    "RFmodel = pickle.load(open('RFmodel.sav', 'rb'))"
   ]
  },
  {
   "cell_type": "code",
   "execution_count": 12,
   "metadata": {},
   "outputs": [
    {
     "data": {
      "text/plain": [
       "Index(['cloud_cover', 'apparent_temperature', 'temperature', 'humidity',\n",
       "       'dew_point', 'wind_bearing', 'wind_speed', 'wind_gust', 'pressure',\n",
       "       'uv_index', 'ozone', 'precip_intensity', 'precip_probability',\n",
       "       'visibility', 'Clear', 'Humid and Mostly Cloudy', 'Mostly Cloudy',\n",
       "       'Overcast', 'Partly Cloudy'],\n",
       "      dtype='object')"
      ]
     },
     "execution_count": 12,
     "metadata": {},
     "output_type": "execute_result"
    }
   ],
   "source": [
    "df.columns"
   ]
  },
  {
   "cell_type": "code",
   "execution_count": 14,
   "metadata": {},
   "outputs": [
    {
     "data": {
      "text/plain": [
       "(648, 19)"
      ]
     },
     "execution_count": 14,
     "metadata": {},
     "output_type": "execute_result"
    }
   ],
   "source": [
    "df.shape"
   ]
  },
  {
   "cell_type": "code",
   "execution_count": 15,
   "metadata": {},
   "outputs": [],
   "source": [
    "tpdf=pd.DataFrame(np.zeros((648,19)),columns=['Breezy and Foggy', 'Clear', 'Foggy', 'Humid',\n",
    "       'Humid and Foggy', 'Humid and Mostly Cloudy', 'Humid and Overcast',\n",
    "       'Humid and Partly Cloudy', 'Light Rain', 'Light Rain and Humid',\n",
    "       'Mostly Cloudy', 'Overcast', 'Partly Cloudy', 'Possible Drizzle',\n",
    "       'Possible Drizzle and Humid', 'Possible Light Rain',\n",
    "       'Possible Light Rain and Humid', 'Rain', 'Rain and Humid'])"
   ]
  },
  {
   "cell_type": "code",
   "execution_count": 23,
   "metadata": {},
   "outputs": [],
   "source": [
    "df[['Breezy and Foggy', 'Foggy', 'Humid','Humid and Foggy', 'Humid and Overcast','Humid and Partly Cloudy', 'Light Rain', 'Light Rain and Humid','Possible Drizzle','Possible Drizzle and Humid', 'Possible Light Rain','Possible Light Rain and Humid', 'Rain', 'Rain and Humid']]=tpdf[['Breezy and Foggy', 'Foggy', 'Humid','Humid and Foggy', 'Humid and Overcast','Humid and Partly Cloudy', 'Light Rain', 'Light Rain and Humid','Possible Drizzle','Possible Drizzle and Humid', 'Possible Light Rain','Possible Light Rain and Humid', 'Rain', 'Rain and Humid']]"
   ]
  },
  {
   "cell_type": "code",
   "execution_count": 26,
   "metadata": {},
   "outputs": [],
   "source": [
    "predicted_values=RFmodel.predict(df)"
   ]
  },
  {
   "cell_type": "code",
   "execution_count": 27,
   "metadata": {},
   "outputs": [],
   "source": [
    "df['power']=predicted_values"
   ]
  },
  {
   "cell_type": "code",
   "execution_count": 28,
   "metadata": {},
   "outputs": [],
   "source": [
    "df.to_csv('OUTPUT.csv')"
   ]
  },
  {
   "cell_type": "code",
   "execution_count": null,
   "metadata": {},
   "outputs": [],
   "source": []
  }
 ],
 "metadata": {
  "kernelspec": {
   "display_name": "Python 3",
   "language": "python",
   "name": "python3"
  },
  "language_info": {
   "codemirror_mode": {
    "name": "ipython",
    "version": 3
   },
   "file_extension": ".py",
   "mimetype": "text/x-python",
   "name": "python",
   "nbconvert_exporter": "python",
   "pygments_lexer": "ipython3",
   "version": "3.7.7"
  }
 },
 "nbformat": 4,
 "nbformat_minor": 2
}
